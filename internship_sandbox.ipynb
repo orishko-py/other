{
 "cells": [
  {
   "cell_type": "markdown",
   "metadata": {},
   "source": [
    "# Data Exploration for Mews Systems Internship \n",
    "### Ostap Orishko"
   ]
  },
  {
   "cell_type": "code",
   "execution_count": 2,
   "metadata": {},
   "outputs": [],
   "source": [
    "import pandas as pd\n",
    "import numpy as np \n",
    "\n",
    "data = pd.read_csv('Dataset_Internship_Exercise.csv')"
   ]
  },
  {
   "cell_type": "markdown",
   "metadata": {},
   "source": [
    "I'll start with having a look at how data is structured and whether there is any cleaning that needs to be done"
   ]
  },
  {
   "cell_type": "code",
   "execution_count": 3,
   "metadata": {},
   "outputs": [
    {
     "data": {
      "text/html": [
       "<div>\n",
       "<style scoped>\n",
       "    .dataframe tbody tr th:only-of-type {\n",
       "        vertical-align: middle;\n",
       "    }\n",
       "\n",
       "    .dataframe tbody tr th {\n",
       "        vertical-align: top;\n",
       "    }\n",
       "\n",
       "    .dataframe thead th {\n",
       "        text-align: right;\n",
       "    }\n",
       "</style>\n",
       "<table border=\"1\" class=\"dataframe\">\n",
       "  <thead>\n",
       "    <tr style=\"text-align: right;\">\n",
       "      <th></th>\n",
       "      <th>Hotel Name</th>\n",
       "      <th>Management Firm</th>\n",
       "      <th>City</th>\n",
       "      <th>State</th>\n",
       "      <th>Country</th>\n",
       "      <th>Chain_Name</th>\n",
       "      <th>Rooms</th>\n",
       "    </tr>\n",
       "  </thead>\n",
       "  <tbody>\n",
       "    <tr>\n",
       "      <th>0</th>\n",
       "      <td>24 North Hotel</td>\n",
       "      <td>Too Low Hotel Management</td>\n",
       "      <td>Key West</td>\n",
       "      <td>Florida</td>\n",
       "      <td>United States</td>\n",
       "      <td>Independent</td>\n",
       "      <td>145</td>\n",
       "    </tr>\n",
       "    <tr>\n",
       "      <th>1</th>\n",
       "      <td>24 North Hotel Key West</td>\n",
       "      <td>Too Low Hotel Management</td>\n",
       "      <td>Key West</td>\n",
       "      <td>Florida</td>\n",
       "      <td>United States</td>\n",
       "      <td>Independent</td>\n",
       "      <td>145</td>\n",
       "    </tr>\n",
       "    <tr>\n",
       "      <th>2</th>\n",
       "      <td>A La Carte</td>\n",
       "      <td>Multiple Hotels Company</td>\n",
       "      <td>San Diego</td>\n",
       "      <td>California</td>\n",
       "      <td>United States</td>\n",
       "      <td>Hilton</td>\n",
       "      <td>202</td>\n",
       "    </tr>\n",
       "    <tr>\n",
       "      <th>3</th>\n",
       "      <td>AC Denver Downtown</td>\n",
       "      <td>Black Group Hospitality</td>\n",
       "      <td>Denver</td>\n",
       "      <td>Colorado</td>\n",
       "      <td>United States</td>\n",
       "      <td>Marriott</td>\n",
       "      <td>223</td>\n",
       "    </tr>\n",
       "    <tr>\n",
       "      <th>4</th>\n",
       "      <td>AC Hotel Atlanta Buckhead at Phipps Plaza</td>\n",
       "      <td>Multiple Hotels Company</td>\n",
       "      <td>Atlanta</td>\n",
       "      <td>Georgia</td>\n",
       "      <td>United States</td>\n",
       "      <td>Marriott</td>\n",
       "      <td>166</td>\n",
       "    </tr>\n",
       "  </tbody>\n",
       "</table>\n",
       "</div>"
      ],
      "text/plain": [
       "                                 Hotel Name            Management Firm  \\\n",
       "0                            24 North Hotel   Too Low Hotel Management   \n",
       "1                    24 North Hotel Key West  Too Low Hotel Management   \n",
       "2                                 A La Carte  Multiple Hotels Company    \n",
       "3                         AC Denver Downtown  Black Group Hospitality    \n",
       "4  AC Hotel Atlanta Buckhead at Phipps Plaza  Multiple Hotels Company    \n",
       "\n",
       "        City       State        Country   Chain_Name  Rooms   \n",
       "0   Key West     Florida  United States  Independent     145  \n",
       "1   Key West     Florida  United States  Independent     145  \n",
       "2  San Diego  California  United States       Hilton     202  \n",
       "3     Denver    Colorado  United States     Marriott     223  \n",
       "4    Atlanta     Georgia  United States     Marriott     166  "
      ]
     },
     "execution_count": 3,
     "metadata": {},
     "output_type": "execute_result"
    }
   ],
   "source": [
    "data.head()"
   ]
  },
  {
   "cell_type": "code",
   "execution_count": 6,
   "metadata": {
    "scrolled": true
   },
   "outputs": [
    {
     "data": {
      "text/plain": [
       "array(['United States', 'United Kingdom', 'Netherlands', 'Kazakhstan',\n",
       "       'Russia', 'Bosnia and Herzegovina', 'Belgium', 'Ireland',\n",
       "       'Belarus', 'Armenia'], dtype=object)"
      ]
     },
     "execution_count": 6,
     "metadata": {},
     "output_type": "execute_result"
    }
   ],
   "source": [
    "data['Country'].unique()"
   ]
  },
  {
   "cell_type": "markdown",
   "metadata": {},
   "source": [
    "I'll filter by Country later to include United States only"
   ]
  },
  {
   "cell_type": "code",
   "execution_count": 8,
   "metadata": {},
   "outputs": [
    {
     "data": {
      "text/plain": [
       "array(['Too Low Hotel Management', 'Multiple Hotels Company ',\n",
       "       'Black Group Hospitality ', 'Flying hospitality company',\n",
       "       'Painless Hotels Firm ', 'Isolated Hospitality ',\n",
       "       'Transparent Hotels', 'Best Hospitality Managemnt LTD ',\n",
       "       'Jamming hospitality ', 'Phillip Hotels', 'Circle Hotels',\n",
       "       'Goliath hotels and resorts ', 'Hairydry Hotels',\n",
       "       'Sunny management ', 'best hspitality management ',\n",
       "       'Best mgnt LDT ', 'best Hospitality Managemnt LTD ', 'Einstein ',\n",
       "       'Einstein Hotels ', 'Einstein h', 'Einstein Hotel ',\n",
       "       'Flying Hospitality ', 'jamming hospitality corporation ',\n",
       "       'jamming hospitality management firm ', 'flYING ',\n",
       "       'Transparent Hotel'], dtype=object)"
      ]
     },
     "execution_count": 8,
     "metadata": {},
     "output_type": "execute_result"
    }
   ],
   "source": [
    "data['Management Firm'].unique()"
   ]
  },
  {
   "cell_type": "markdown",
   "metadata": {},
   "source": [
    "There are plenty of mistakes here, I am fixing them below"
   ]
  },
  {
   "cell_type": "code",
   "execution_count": 15,
   "metadata": {},
   "outputs": [
    {
     "data": {
      "text/plain": [
       "array(['Independent', 'Hilton', 'Marriott', 'IHG', 'Wyndham Destinations',\n",
       "       nan, 'Best Western Hotels & Resorts', 'Choice Hotels', 'Radisson',\n",
       "       'Mariot', 'Extended Stay America', 'Hilton hotels', 'Red Lion',\n",
       "       'Hyatt', 'Accor Hotels', 'Indepantdent', 'Radisson Hospitality',\n",
       "       'Wyndham Hotels and Resorts'], dtype=object)"
      ]
     },
     "execution_count": 15,
     "metadata": {},
     "output_type": "execute_result"
    }
   ],
   "source": [
    "data['Chain_Name'].unique()"
   ]
  },
  {
   "cell_type": "markdown",
   "metadata": {},
   "source": [
    "Wyndham has two different names: Wyndham Destinations and Wyndham Hotels and Resorts\n",
    "but Wyndham Hotels and Resorts only appears once - in the UK, so will not be considered"
   ]
  },
  {
   "cell_type": "code",
   "execution_count": 23,
   "metadata": {},
   "outputs": [],
   "source": [
    "#fixing values for hotel companies \n",
    "for col in data.columns:\n",
    "    #Best Hospitality Management\n",
    "    data.loc[data[col] == 'best hspitality management ', col] = 'Best Hospitality Management'\n",
    "    data.loc[data[col] == 'best Hospitality Managemnt LTD ', col] = 'Best Hospitality Management'\n",
    "    data.loc[data[col] == 'Best Hospitality Managemnt LTD ', col] = 'Best Hospitality Management'\n",
    "    data.loc[data[col] == 'Best mgnt LDT ', col] = 'Best Hospitality Management'\n",
    "    \n",
    "    #Einstein Hotels\n",
    "    data.loc[data[col] == 'Einstein ', col] = 'Einstein Hotels'\n",
    "    data.loc[data[col] == 'Einstein h', col] = 'Einstein Hotels'\n",
    "    data.loc[data[col] == 'Einstein Hotels ', col] = 'Einstein Hotels'\n",
    "    data.loc[data[col] == 'Einstein Hotel ', col] = 'Einstein Hotels'\n",
    "    \n",
    "    #Transparent Hotels\n",
    "    data.loc[data[col] == 'Transparent Hotel', col] = 'Transparent Hotels'\n",
    "    \n",
    "    #Jamming Hospitality\n",
    "    data.loc[data[col] == 'jamming hospitality management firm ', col] = 'Jamming Hospitality'\n",
    "    data.loc[data[col] == 'Jamming hospitality ', col] = 'Jamming Hospitality'\n",
    "    data.loc[data[col] == 'jamming hospitality management firm ', col] = 'Jamming Hospitality'\n",
    "    data.loc[data[col] == 'jamming hospitality corporation ', col] = 'Jamming Hospitality'\n",
    "    \n",
    "    #Goliath Hotels and Resorts\n",
    "    data.loc[data[col] == 'Goliath hotels and resorts ', col] = 'Goliath Hotels and Resorts'\n",
    "    \n",
    "    #Flying Hospitality\n",
    "    data.loc[data[col] == 'flYING ', col] = 'Flying Hospitality'\n",
    "    data.loc[data[col] == 'Flying hospitality company', col] = 'Flying Hospitality'\n",
    "    data.loc[data[col] == 'Flying Hospitality ', col] = 'Flying Hospitality'\n",
    "    \n",
    "    #Painless Hotels\n",
    "    data.loc[data[col] == 'Painless Hotels Firm ', col] = 'Painless Hotels'\n",
    "    \n",
    "    #Sunny Management\n",
    "    data.loc[data[col] == 'Sunny management ', col] = 'Sunny Management'\n",
    "    \n",
    "    #strip should do these but once I'm here already I fixed them here \n",
    "    data.loc[data[col] == 'Isolated Hospitality ', col] = 'Isolated Hospitality'\n",
    "    data.loc[data[col] == 'Multiple Hotels Company ', col] = 'Multiple Hotels Company'\n",
    "    "
   ]
  },
  {
   "cell_type": "markdown",
   "metadata": {},
   "source": [
    "After this, when we run the cell below we want to get 15 as an answer - the number of Management Firms"
   ]
  },
  {
   "cell_type": "code",
   "execution_count": 25,
   "metadata": {},
   "outputs": [
    {
     "data": {
      "text/plain": [
       "15"
      ]
     },
     "execution_count": 25,
     "metadata": {},
     "output_type": "execute_result"
    }
   ],
   "source": [
    "len(data['Management Firm'].unique())"
   ]
  },
  {
   "cell_type": "code",
   "execution_count": 26,
   "metadata": {},
   "outputs": [],
   "source": [
    "#removing all countries apart from the US\n",
    "us_data = data.loc[data['Country'] == 'United States']"
   ]
  },
  {
   "cell_type": "markdown",
   "metadata": {},
   "source": [
    "len(us_data)"
   ]
  },
  {
   "cell_type": "markdown",
   "metadata": {},
   "source": [
    "The line below gives us Wyndham hotels **outside** of the US, which are most likely HotelSofts' current customers. Note that both hotels are **managed by Multiple Hotels Company**, which is something we want to consider when looking at the US hotels. "
   ]
  },
  {
   "cell_type": "code",
   "execution_count": 45,
   "metadata": {},
   "outputs": [
    {
     "data": {
      "text/html": [
       "<div>\n",
       "<style scoped>\n",
       "    .dataframe tbody tr th:only-of-type {\n",
       "        vertical-align: middle;\n",
       "    }\n",
       "\n",
       "    .dataframe tbody tr th {\n",
       "        vertical-align: top;\n",
       "    }\n",
       "\n",
       "    .dataframe thead th {\n",
       "        text-align: right;\n",
       "    }\n",
       "</style>\n",
       "<table border=\"1\" class=\"dataframe\">\n",
       "  <thead>\n",
       "    <tr style=\"text-align: right;\">\n",
       "      <th></th>\n",
       "      <th>Hotel Name</th>\n",
       "      <th>Management Firm</th>\n",
       "      <th>City</th>\n",
       "      <th>State</th>\n",
       "      <th>Country</th>\n",
       "      <th>Chain_Name</th>\n",
       "      <th>Rooms</th>\n",
       "    </tr>\n",
       "  </thead>\n",
       "  <tbody>\n",
       "    <tr>\n",
       "      <th>385</th>\n",
       "      <td>Days Inn Liverpool City Centre</td>\n",
       "      <td>Multiple Hotels Company</td>\n",
       "      <td>Liverpool</td>\n",
       "      <td>England</td>\n",
       "      <td>United Kingdom</td>\n",
       "      <td>Wyndham Destinations</td>\n",
       "      <td>154</td>\n",
       "    </tr>\n",
       "    <tr>\n",
       "      <th>1491</th>\n",
       "      <td>Ramada Encore Bournemouth</td>\n",
       "      <td>Multiple Hotels Company</td>\n",
       "      <td>Bournemouth</td>\n",
       "      <td>England</td>\n",
       "      <td>United Kingdom</td>\n",
       "      <td>Wyndham Hotels and Resorts</td>\n",
       "      <td>113</td>\n",
       "    </tr>\n",
       "  </tbody>\n",
       "</table>\n",
       "</div>"
      ],
      "text/plain": [
       "                         Hotel Name           Management Firm         City  \\\n",
       "385   Days Inn Liverpool City Centre  Multiple Hotels Company    Liverpool   \n",
       "1491       Ramada Encore Bournemouth  Multiple Hotels Company  Bournemouth   \n",
       "\n",
       "        State         Country                  Chain_Name  Rooms   \n",
       "385   England  United Kingdom        Wyndham Destinations     154  \n",
       "1491  England  United Kingdom  Wyndham Hotels and Resorts     113  "
      ]
     },
     "execution_count": 45,
     "metadata": {},
     "output_type": "execute_result"
    }
   ],
   "source": [
    "data.loc[(('Wyndham Destinations' == data['Chain_Name']) | ('Wyndham Hotels and Resorts' == data['Chain_Name'])) & ('United States' != data['Country'])] "
   ]
  },
  {
   "cell_type": "markdown",
   "metadata": {},
   "source": [
    "\n",
    "We see that there only two hotels - both with *over a hundred rooms*, so Bob should be comfortable approaching \n",
    "companies that have hotels in the US run by Wyndham and have fewer that a hundred rooms or so. Finally, we want to see the list of Management Firms that manage hotels of the chain Wyndham. The list is displayed below.\n"
   ]
  },
  {
   "cell_type": "code",
   "execution_count": 51,
   "metadata": {},
   "outputs": [
    {
     "data": {
      "text/html": [
       "<div>\n",
       "<style scoped>\n",
       "    .dataframe tbody tr th:only-of-type {\n",
       "        vertical-align: middle;\n",
       "    }\n",
       "\n",
       "    .dataframe tbody tr th {\n",
       "        vertical-align: top;\n",
       "    }\n",
       "\n",
       "    .dataframe thead th {\n",
       "        text-align: right;\n",
       "    }\n",
       "</style>\n",
       "<table border=\"1\" class=\"dataframe\">\n",
       "  <thead>\n",
       "    <tr style=\"text-align: right;\">\n",
       "      <th></th>\n",
       "      <th>Hotel Name</th>\n",
       "      <th>Management Firm</th>\n",
       "      <th>City</th>\n",
       "      <th>State</th>\n",
       "      <th>Country</th>\n",
       "      <th>Chain_Name</th>\n",
       "      <th>Rooms</th>\n",
       "    </tr>\n",
       "  </thead>\n",
       "  <tbody>\n",
       "    <tr>\n",
       "      <th>49</th>\n",
       "      <td>Americinn By Wyndham Appleton West</td>\n",
       "      <td>Best Hospitality Management</td>\n",
       "      <td>Appleton</td>\n",
       "      <td>Wisconsin</td>\n",
       "      <td>United States</td>\n",
       "      <td>Wyndham Destinations</td>\n",
       "      <td>63</td>\n",
       "    </tr>\n",
       "    <tr>\n",
       "      <th>50</th>\n",
       "      <td>Americinn By Wyndham Davenport</td>\n",
       "      <td>Best Hospitality Management</td>\n",
       "      <td>Davenport</td>\n",
       "      <td>Iowa</td>\n",
       "      <td>United States</td>\n",
       "      <td>Wyndham Destinations</td>\n",
       "      <td>62</td>\n",
       "    </tr>\n",
       "    <tr>\n",
       "      <th>51</th>\n",
       "      <td>Americinn By Wyndham Hudson</td>\n",
       "      <td>Best Hospitality Management</td>\n",
       "      <td>Hudson</td>\n",
       "      <td>Wisconsin</td>\n",
       "      <td>United States</td>\n",
       "      <td>Wyndham Destinations</td>\n",
       "      <td>63</td>\n",
       "    </tr>\n",
       "    <tr>\n",
       "      <th>52</th>\n",
       "      <td>Americinn By Wyndham Moline Airport/Quad Cities</td>\n",
       "      <td>Best Hospitality Management</td>\n",
       "      <td>Moline</td>\n",
       "      <td>Illinois</td>\n",
       "      <td>United States</td>\n",
       "      <td>Wyndham Destinations</td>\n",
       "      <td>63</td>\n",
       "    </tr>\n",
       "    <tr>\n",
       "      <th>65</th>\n",
       "      <td>Baymont By Wyndham Coon Rapids</td>\n",
       "      <td>Best Hospitality Management</td>\n",
       "      <td>Coon Rapids</td>\n",
       "      <td>Minnesota</td>\n",
       "      <td>United States</td>\n",
       "      <td>Wyndham Destinations</td>\n",
       "      <td>59</td>\n",
       "    </tr>\n",
       "    <tr>\n",
       "      <th>66</th>\n",
       "      <td>Baymont Inn &amp; Suites Barstow Historic Route 66</td>\n",
       "      <td>Sunny Management</td>\n",
       "      <td>Barstow</td>\n",
       "      <td>California</td>\n",
       "      <td>United States</td>\n",
       "      <td>Wyndham Destinations</td>\n",
       "      <td>64</td>\n",
       "    </tr>\n",
       "    <tr>\n",
       "      <th>67</th>\n",
       "      <td>Baymont Inn &amp; Suites Cuero</td>\n",
       "      <td>Best Hospitality Management</td>\n",
       "      <td>Cuero</td>\n",
       "      <td>Texas</td>\n",
       "      <td>United States</td>\n",
       "      <td>Wyndham Destinations</td>\n",
       "      <td>52</td>\n",
       "    </tr>\n",
       "    <tr>\n",
       "      <th>382</th>\n",
       "      <td>Days Inn &amp; Suites Altoona</td>\n",
       "      <td>Best Hospitality Management</td>\n",
       "      <td>Altoona</td>\n",
       "      <td>Pennsylvania</td>\n",
       "      <td>United States</td>\n",
       "      <td>Wyndham Destinations</td>\n",
       "      <td>54</td>\n",
       "    </tr>\n",
       "    <tr>\n",
       "      <th>383</th>\n",
       "      <td>Days Inn &amp; Suites Belmont</td>\n",
       "      <td>Best Hospitality Management</td>\n",
       "      <td>Belmont</td>\n",
       "      <td>Ohio</td>\n",
       "      <td>United States</td>\n",
       "      <td>Wyndham Destinations</td>\n",
       "      <td>76</td>\n",
       "    </tr>\n",
       "    <tr>\n",
       "      <th>384</th>\n",
       "      <td>Days Inn Austin/University/Downtown</td>\n",
       "      <td>Best Hospitality Management</td>\n",
       "      <td>Austin</td>\n",
       "      <td>Texas</td>\n",
       "      <td>United States</td>\n",
       "      <td>Wyndham Destinations</td>\n",
       "      <td>61</td>\n",
       "    </tr>\n",
       "    <tr>\n",
       "      <th>799</th>\n",
       "      <td>Hawthorn Suites By Wyndham</td>\n",
       "      <td>Painless Hotels</td>\n",
       "      <td>Dubai</td>\n",
       "      <td>United Arab Emirates</td>\n",
       "      <td>United States</td>\n",
       "      <td>Wyndham Destinations</td>\n",
       "      <td>188</td>\n",
       "    </tr>\n",
       "    <tr>\n",
       "      <th>1390</th>\n",
       "      <td>La Quinta Inn &amp; Suites Dallas - Las Colinas</td>\n",
       "      <td>Best Hospitality Management</td>\n",
       "      <td>Irving</td>\n",
       "      <td>Texas</td>\n",
       "      <td>United States</td>\n",
       "      <td>Wyndham Destinations</td>\n",
       "      <td>92</td>\n",
       "    </tr>\n",
       "    <tr>\n",
       "      <th>1391</th>\n",
       "      <td>La Quinta Inn &amp; Suites Hobbs</td>\n",
       "      <td>Best Hospitality Management</td>\n",
       "      <td>Hobbs</td>\n",
       "      <td>New Mexico</td>\n",
       "      <td>United States</td>\n",
       "      <td>Wyndham Destinations</td>\n",
       "      <td>68</td>\n",
       "    </tr>\n",
       "    <tr>\n",
       "      <th>1393</th>\n",
       "      <td>La Quinta Inn &amp; Suites Port Arthur</td>\n",
       "      <td>Best Hospitality Management</td>\n",
       "      <td>Port Arthur</td>\n",
       "      <td>Texas</td>\n",
       "      <td>United States</td>\n",
       "      <td>Wyndham Destinations</td>\n",
       "      <td>63</td>\n",
       "    </tr>\n",
       "    <tr>\n",
       "      <th>1432</th>\n",
       "      <td>Microtel Inn &amp; Suites By Wyndham Dickinson</td>\n",
       "      <td>Best Hospitality Management</td>\n",
       "      <td>Dickinson</td>\n",
       "      <td>North Dakota</td>\n",
       "      <td>United States</td>\n",
       "      <td>Wyndham Destinations</td>\n",
       "      <td>79</td>\n",
       "    </tr>\n",
       "    <tr>\n",
       "      <th>1433</th>\n",
       "      <td>Microtel Inn &amp; Suites By Wyndham Marianna</td>\n",
       "      <td>Best Hospitality Management</td>\n",
       "      <td>Marianna</td>\n",
       "      <td>Florida</td>\n",
       "      <td>United States</td>\n",
       "      <td>Wyndham Destinations</td>\n",
       "      <td>64</td>\n",
       "    </tr>\n",
       "    <tr>\n",
       "      <th>1434</th>\n",
       "      <td>Microtel Inn &amp; Suites By Wyndham Weeki Wachee</td>\n",
       "      <td>Best Hospitality Management</td>\n",
       "      <td>Spring Hill</td>\n",
       "      <td>Florida</td>\n",
       "      <td>United States</td>\n",
       "      <td>Wyndham Destinations</td>\n",
       "      <td>68</td>\n",
       "    </tr>\n",
       "    <tr>\n",
       "      <th>1435</th>\n",
       "      <td>Microtel Inn &amp; Suites By Wyndham Williston</td>\n",
       "      <td>Best Hospitality Management</td>\n",
       "      <td>Williston</td>\n",
       "      <td>North Dakota</td>\n",
       "      <td>United States</td>\n",
       "      <td>Wyndham Destinations</td>\n",
       "      <td>77</td>\n",
       "    </tr>\n",
       "    <tr>\n",
       "      <th>1492</th>\n",
       "      <td>Ramada Inn Cumberland</td>\n",
       "      <td>Best Hospitality Management</td>\n",
       "      <td>Cumberland</td>\n",
       "      <td>Maryland</td>\n",
       "      <td>United States</td>\n",
       "      <td>Wyndham Destinations</td>\n",
       "      <td>130</td>\n",
       "    </tr>\n",
       "    <tr>\n",
       "      <th>1493</th>\n",
       "      <td>Ramada Mitchell Hotel And Conference Center</td>\n",
       "      <td>Best Hospitality Management</td>\n",
       "      <td>Mitchell</td>\n",
       "      <td>South Dakota</td>\n",
       "      <td>United States</td>\n",
       "      <td>Wyndham Destinations</td>\n",
       "      <td>122</td>\n",
       "    </tr>\n",
       "    <tr>\n",
       "      <th>1924</th>\n",
       "      <td>Super 8 Atoka</td>\n",
       "      <td>Best Hospitality Management</td>\n",
       "      <td>Atoka</td>\n",
       "      <td>Oklahoma</td>\n",
       "      <td>United States</td>\n",
       "      <td>Wyndham Destinations</td>\n",
       "      <td>54</td>\n",
       "    </tr>\n",
       "    <tr>\n",
       "      <th>1925</th>\n",
       "      <td>Super 8 Austin Downtown/Capitol Area</td>\n",
       "      <td>Best Hospitality Management</td>\n",
       "      <td>Austin</td>\n",
       "      <td>Texas</td>\n",
       "      <td>United States</td>\n",
       "      <td>Wyndham Destinations</td>\n",
       "      <td>60</td>\n",
       "    </tr>\n",
       "    <tr>\n",
       "      <th>2058</th>\n",
       "      <td>Wingate By Wyndham Denver Airport</td>\n",
       "      <td>Best Hospitality Management</td>\n",
       "      <td>Denver</td>\n",
       "      <td>Colorado</td>\n",
       "      <td>United States</td>\n",
       "      <td>Wyndham Destinations</td>\n",
       "      <td>123</td>\n",
       "    </tr>\n",
       "    <tr>\n",
       "      <th>2059</th>\n",
       "      <td>Wingate By Wyndham Fairview Heights</td>\n",
       "      <td>Best Hospitality Management</td>\n",
       "      <td>Fairview Heights</td>\n",
       "      <td>Illinois</td>\n",
       "      <td>United States</td>\n",
       "      <td>Wyndham Destinations</td>\n",
       "      <td>63</td>\n",
       "    </tr>\n",
       "    <tr>\n",
       "      <th>2060</th>\n",
       "      <td>Wingate By Wyndham Great Falls</td>\n",
       "      <td>Best Hospitality Management</td>\n",
       "      <td>Great Falls</td>\n",
       "      <td>Montana</td>\n",
       "      <td>United States</td>\n",
       "      <td>Wyndham Destinations</td>\n",
       "      <td>62</td>\n",
       "    </tr>\n",
       "    <tr>\n",
       "      <th>2061</th>\n",
       "      <td>Wingate By Wyndham Green Bay/Airport</td>\n",
       "      <td>Best Hospitality Management</td>\n",
       "      <td>Green Bay</td>\n",
       "      <td>Wisconsin</td>\n",
       "      <td>United States</td>\n",
       "      <td>Wyndham Destinations</td>\n",
       "      <td>80</td>\n",
       "    </tr>\n",
       "    <tr>\n",
       "      <th>2062</th>\n",
       "      <td>Wingate By Wyndham Independence</td>\n",
       "      <td>Best Hospitality Management</td>\n",
       "      <td>Independence</td>\n",
       "      <td>Montana</td>\n",
       "      <td>United States</td>\n",
       "      <td>Wyndham Destinations</td>\n",
       "      <td>63</td>\n",
       "    </tr>\n",
       "    <tr>\n",
       "      <th>2063</th>\n",
       "      <td>Wingate By Wyndham Kansas City North Near Worl...</td>\n",
       "      <td>Best Hospitality Management</td>\n",
       "      <td>Kansas City</td>\n",
       "      <td>Montana</td>\n",
       "      <td>United States</td>\n",
       "      <td>Wyndham Destinations</td>\n",
       "      <td>70</td>\n",
       "    </tr>\n",
       "    <tr>\n",
       "      <th>2064</th>\n",
       "      <td>Wingate By Wyndham Nashville Airport</td>\n",
       "      <td>Best Hospitality Management</td>\n",
       "      <td>Nashville</td>\n",
       "      <td>Tennessee</td>\n",
       "      <td>United States</td>\n",
       "      <td>Wyndham Destinations</td>\n",
       "      <td>123</td>\n",
       "    </tr>\n",
       "    <tr>\n",
       "      <th>2065</th>\n",
       "      <td>Wingate By Wyndham Oklahoma City South</td>\n",
       "      <td>Best Hospitality Management</td>\n",
       "      <td>Oklahoma City</td>\n",
       "      <td>Oklahoma</td>\n",
       "      <td>United States</td>\n",
       "      <td>Wyndham Destinations</td>\n",
       "      <td>81</td>\n",
       "    </tr>\n",
       "    <tr>\n",
       "      <th>2066</th>\n",
       "      <td>Wingate By Wyndham San Jose</td>\n",
       "      <td>Best Hospitality Management</td>\n",
       "      <td>San Jose</td>\n",
       "      <td>California</td>\n",
       "      <td>United States</td>\n",
       "      <td>Wyndham Destinations</td>\n",
       "      <td>209</td>\n",
       "    </tr>\n",
       "    <tr>\n",
       "      <th>2067</th>\n",
       "      <td>Wingate By Wyndham Sioux City</td>\n",
       "      <td>Best Hospitality Management</td>\n",
       "      <td>Sioux City</td>\n",
       "      <td>Iowa</td>\n",
       "      <td>United States</td>\n",
       "      <td>Wyndham Destinations</td>\n",
       "      <td>62</td>\n",
       "    </tr>\n",
       "    <tr>\n",
       "      <th>2068</th>\n",
       "      <td>Wingate By Wyndham Zanesville</td>\n",
       "      <td>Best Hospitality Management</td>\n",
       "      <td>Zanesville</td>\n",
       "      <td>Ohio</td>\n",
       "      <td>United States</td>\n",
       "      <td>Wyndham Destinations</td>\n",
       "      <td>63</td>\n",
       "    </tr>\n",
       "    <tr>\n",
       "      <th>2071</th>\n",
       "      <td>Wyndham Garden Carson City Max Casino</td>\n",
       "      <td>Best Hospitality Management</td>\n",
       "      <td>Carson City</td>\n",
       "      <td>Nevada</td>\n",
       "      <td>United States</td>\n",
       "      <td>Wyndham Destinations</td>\n",
       "      <td>91</td>\n",
       "    </tr>\n",
       "    <tr>\n",
       "      <th>2072</th>\n",
       "      <td>Wyndham Garden Hotel</td>\n",
       "      <td>Transparent Hotels</td>\n",
       "      <td>Philadelphia</td>\n",
       "      <td>Pennsylvania</td>\n",
       "      <td>United States</td>\n",
       "      <td>Wyndham Destinations</td>\n",
       "      <td>349</td>\n",
       "    </tr>\n",
       "    <tr>\n",
       "      <th>2073</th>\n",
       "      <td>Wyndham Gettysburg</td>\n",
       "      <td>Multiple Hotels Company</td>\n",
       "      <td>Gettysburg</td>\n",
       "      <td>Pennsylvania</td>\n",
       "      <td>United States</td>\n",
       "      <td>Wyndham Destinations</td>\n",
       "      <td>248</td>\n",
       "    </tr>\n",
       "    <tr>\n",
       "      <th>2074</th>\n",
       "      <td>Wyndham Green Valley Canoa Ranch Resort</td>\n",
       "      <td>Best Hospitality Management</td>\n",
       "      <td>Green Valley</td>\n",
       "      <td>Arizona</td>\n",
       "      <td>United States</td>\n",
       "      <td>Wyndham Destinations</td>\n",
       "      <td>98</td>\n",
       "    </tr>\n",
       "    <tr>\n",
       "      <th>2075</th>\n",
       "      <td>Wyndham San Antonio Riverwalk</td>\n",
       "      <td>Best Hospitality Management</td>\n",
       "      <td>San Antonio</td>\n",
       "      <td>Texas</td>\n",
       "      <td>United States</td>\n",
       "      <td>Wyndham Destinations</td>\n",
       "      <td>410</td>\n",
       "    </tr>\n",
       "    <tr>\n",
       "      <th>2076</th>\n",
       "      <td>Wyndham Springfield City Centre</td>\n",
       "      <td>Painless Hotels</td>\n",
       "      <td>Springfield</td>\n",
       "      <td>Illinois</td>\n",
       "      <td>United States</td>\n",
       "      <td>Wyndham Destinations</td>\n",
       "      <td>369</td>\n",
       "    </tr>\n",
       "  </tbody>\n",
       "</table>\n",
       "</div>"
      ],
      "text/plain": [
       "                                            Hotel Name   \\\n",
       "49                   Americinn By Wyndham Appleton West   \n",
       "50                       Americinn By Wyndham Davenport   \n",
       "51                          Americinn By Wyndham Hudson   \n",
       "52      Americinn By Wyndham Moline Airport/Quad Cities   \n",
       "65                       Baymont By Wyndham Coon Rapids   \n",
       "66       Baymont Inn & Suites Barstow Historic Route 66   \n",
       "67                           Baymont Inn & Suites Cuero   \n",
       "382                           Days Inn & Suites Altoona   \n",
       "383                           Days Inn & Suites Belmont   \n",
       "384                 Days Inn Austin/University/Downtown   \n",
       "799                          Hawthorn Suites By Wyndham   \n",
       "1390        La Quinta Inn & Suites Dallas - Las Colinas   \n",
       "1391                       La Quinta Inn & Suites Hobbs   \n",
       "1393                 La Quinta Inn & Suites Port Arthur   \n",
       "1432         Microtel Inn & Suites By Wyndham Dickinson   \n",
       "1433          Microtel Inn & Suites By Wyndham Marianna   \n",
       "1434      Microtel Inn & Suites By Wyndham Weeki Wachee   \n",
       "1435         Microtel Inn & Suites By Wyndham Williston   \n",
       "1492                              Ramada Inn Cumberland   \n",
       "1493        Ramada Mitchell Hotel And Conference Center   \n",
       "1924                                      Super 8 Atoka   \n",
       "1925               Super 8 Austin Downtown/Capitol Area   \n",
       "2058                  Wingate By Wyndham Denver Airport   \n",
       "2059                Wingate By Wyndham Fairview Heights   \n",
       "2060                     Wingate By Wyndham Great Falls   \n",
       "2061               Wingate By Wyndham Green Bay/Airport   \n",
       "2062                    Wingate By Wyndham Independence   \n",
       "2063  Wingate By Wyndham Kansas City North Near Worl...   \n",
       "2064               Wingate By Wyndham Nashville Airport   \n",
       "2065             Wingate By Wyndham Oklahoma City South   \n",
       "2066                        Wingate By Wyndham San Jose   \n",
       "2067                      Wingate By Wyndham Sioux City   \n",
       "2068                      Wingate By Wyndham Zanesville   \n",
       "2071              Wyndham Garden Carson City Max Casino   \n",
       "2072                               Wyndham Garden Hotel   \n",
       "2073                                 Wyndham Gettysburg   \n",
       "2074            Wyndham Green Valley Canoa Ranch Resort   \n",
       "2075                      Wyndham San Antonio Riverwalk   \n",
       "2076                    Wyndham Springfield City Centre   \n",
       "\n",
       "                  Management Firm              City                 State  \\\n",
       "49    Best Hospitality Management          Appleton             Wisconsin   \n",
       "50    Best Hospitality Management         Davenport                  Iowa   \n",
       "51    Best Hospitality Management            Hudson             Wisconsin   \n",
       "52    Best Hospitality Management            Moline              Illinois   \n",
       "65    Best Hospitality Management       Coon Rapids             Minnesota   \n",
       "66               Sunny Management           Barstow            California   \n",
       "67    Best Hospitality Management             Cuero                 Texas   \n",
       "382   Best Hospitality Management           Altoona          Pennsylvania   \n",
       "383   Best Hospitality Management           Belmont                  Ohio   \n",
       "384   Best Hospitality Management            Austin                 Texas   \n",
       "799               Painless Hotels             Dubai  United Arab Emirates   \n",
       "1390  Best Hospitality Management            Irving                 Texas   \n",
       "1391  Best Hospitality Management             Hobbs            New Mexico   \n",
       "1393  Best Hospitality Management       Port Arthur                 Texas   \n",
       "1432  Best Hospitality Management         Dickinson          North Dakota   \n",
       "1433  Best Hospitality Management          Marianna               Florida   \n",
       "1434  Best Hospitality Management       Spring Hill               Florida   \n",
       "1435  Best Hospitality Management         Williston          North Dakota   \n",
       "1492  Best Hospitality Management        Cumberland              Maryland   \n",
       "1493  Best Hospitality Management          Mitchell          South Dakota   \n",
       "1924  Best Hospitality Management             Atoka              Oklahoma   \n",
       "1925  Best Hospitality Management            Austin                 Texas   \n",
       "2058  Best Hospitality Management            Denver              Colorado   \n",
       "2059  Best Hospitality Management  Fairview Heights              Illinois   \n",
       "2060  Best Hospitality Management       Great Falls               Montana   \n",
       "2061  Best Hospitality Management         Green Bay             Wisconsin   \n",
       "2062  Best Hospitality Management      Independence               Montana   \n",
       "2063  Best Hospitality Management       Kansas City               Montana   \n",
       "2064  Best Hospitality Management         Nashville             Tennessee   \n",
       "2065  Best Hospitality Management     Oklahoma City              Oklahoma   \n",
       "2066  Best Hospitality Management          San Jose            California   \n",
       "2067  Best Hospitality Management        Sioux City                  Iowa   \n",
       "2068  Best Hospitality Management        Zanesville                  Ohio   \n",
       "2071  Best Hospitality Management       Carson City                Nevada   \n",
       "2072           Transparent Hotels      Philadelphia          Pennsylvania   \n",
       "2073      Multiple Hotels Company        Gettysburg          Pennsylvania   \n",
       "2074  Best Hospitality Management      Green Valley               Arizona   \n",
       "2075  Best Hospitality Management       San Antonio                 Texas   \n",
       "2076              Painless Hotels       Springfield              Illinois   \n",
       "\n",
       "            Country            Chain_Name  Rooms   \n",
       "49    United States  Wyndham Destinations      63  \n",
       "50    United States  Wyndham Destinations      62  \n",
       "51    United States  Wyndham Destinations      63  \n",
       "52    United States  Wyndham Destinations      63  \n",
       "65    United States  Wyndham Destinations      59  \n",
       "66    United States  Wyndham Destinations      64  \n",
       "67    United States  Wyndham Destinations      52  \n",
       "382   United States  Wyndham Destinations      54  \n",
       "383   United States  Wyndham Destinations      76  \n",
       "384   United States  Wyndham Destinations      61  \n",
       "799   United States  Wyndham Destinations     188  \n",
       "1390  United States  Wyndham Destinations      92  \n",
       "1391  United States  Wyndham Destinations      68  \n",
       "1393  United States  Wyndham Destinations      63  \n",
       "1432  United States  Wyndham Destinations      79  \n",
       "1433  United States  Wyndham Destinations      64  \n",
       "1434  United States  Wyndham Destinations      68  \n",
       "1435  United States  Wyndham Destinations      77  \n",
       "1492  United States  Wyndham Destinations     130  \n",
       "1493  United States  Wyndham Destinations     122  \n",
       "1924  United States  Wyndham Destinations      54  \n",
       "1925  United States  Wyndham Destinations      60  \n",
       "2058  United States  Wyndham Destinations     123  \n",
       "2059  United States  Wyndham Destinations      63  \n",
       "2060  United States  Wyndham Destinations      62  \n",
       "2061  United States  Wyndham Destinations      80  \n",
       "2062  United States  Wyndham Destinations      63  \n",
       "2063  United States  Wyndham Destinations      70  \n",
       "2064  United States  Wyndham Destinations     123  \n",
       "2065  United States  Wyndham Destinations      81  \n",
       "2066  United States  Wyndham Destinations     209  \n",
       "2067  United States  Wyndham Destinations      62  \n",
       "2068  United States  Wyndham Destinations      63  \n",
       "2071  United States  Wyndham Destinations      91  \n",
       "2072  United States  Wyndham Destinations     349  \n",
       "2073  United States  Wyndham Destinations     248  \n",
       "2074  United States  Wyndham Destinations      98  \n",
       "2075  United States  Wyndham Destinations     410  \n",
       "2076  United States  Wyndham Destinations     369  "
      ]
     },
     "execution_count": 51,
     "metadata": {},
     "output_type": "execute_result"
    }
   ],
   "source": [
    "final = us_data.loc[('Wyndham Destinations' == us_data['Chain_Name']) | ('Wyndham Hotels and Resorts' == us_data['Chain_Name'])]\n",
    "final"
   ]
  },
  {
   "cell_type": "markdown",
   "metadata": {},
   "source": [
    "\n",
    "Row 799 saying United States Emirates unter State is clearly a mistake\n"
   ]
  },
  {
   "cell_type": "code",
   "execution_count": 69,
   "metadata": {},
   "outputs": [
    {
     "data": {
      "text/html": [
       "<div>\n",
       "<style scoped>\n",
       "    .dataframe tbody tr th:only-of-type {\n",
       "        vertical-align: middle;\n",
       "    }\n",
       "\n",
       "    .dataframe tbody tr th {\n",
       "        vertical-align: top;\n",
       "    }\n",
       "\n",
       "    .dataframe thead th {\n",
       "        text-align: right;\n",
       "    }\n",
       "</style>\n",
       "<table border=\"1\" class=\"dataframe\">\n",
       "  <thead>\n",
       "    <tr style=\"text-align: right;\">\n",
       "      <th></th>\n",
       "      <th>Hotel Name</th>\n",
       "      <th>Management Firm</th>\n",
       "      <th>City</th>\n",
       "      <th>State</th>\n",
       "      <th>Country</th>\n",
       "      <th>Chain_Name</th>\n",
       "      <th>Rooms</th>\n",
       "    </tr>\n",
       "  </thead>\n",
       "  <tbody>\n",
       "    <tr>\n",
       "      <th>799</th>\n",
       "      <td>Hawthorn Suites By Wyndham</td>\n",
       "      <td>Painless Hotels</td>\n",
       "      <td>Dubai</td>\n",
       "      <td>United Arab Emirates</td>\n",
       "      <td>United States</td>\n",
       "      <td>Wyndham Destinations</td>\n",
       "      <td>188</td>\n",
       "    </tr>\n",
       "  </tbody>\n",
       "</table>\n",
       "</div>"
      ],
      "text/plain": [
       "                    Hotel Name   Management Firm   City                 State  \\\n",
       "799  Hawthorn Suites By Wyndham  Painless Hotels  Dubai  United Arab Emirates   \n",
       "\n",
       "           Country            Chain_Name  Rooms   \n",
       "799  United States  Wyndham Destinations     188  "
      ]
     },
     "execution_count": 69,
     "metadata": {},
     "output_type": "execute_result"
    }
   ],
   "source": [
    "final.loc[final['State']=='United Arab Emirates']"
   ]
  },
  {
   "cell_type": "markdown",
   "metadata": {},
   "source": [
    "### Deciding on 3 Firms to approach\n",
    "\n",
    "From the spreadsheet above it is clear which hotel management firms should be considered: \n",
    "* Best Hospitality Management\n",
    "* Sunny Management \n",
    "* Transparent Hotels\n",
    "* Multiple Hotels Company\n",
    "* Painless Hotels\n",
    "\n",
    "These are the only firms that manage Wyndham hotels, so we will be only considering them from now on. "
   ]
  },
  {
   "cell_type": "markdown",
   "metadata": {},
   "source": [
    "Because the Wyndham hotels which are already using HotelSoft are both managed by Multiple Hotels Company and because chains are more likely a management company's PMS suggestion if another chain's hotel managed by the same management company is already the suggested PMS, **Bob should meet with Multiple Hotels Company** representatives in the US to discuss running HotelSoft as a pilot in *Wyndham Gettysburg* below, despite the fact that they have 248 rooms."
   ]
  },
  {
   "cell_type": "code",
   "execution_count": 70,
   "metadata": {},
   "outputs": [
    {
     "data": {
      "text/html": [
       "<div>\n",
       "<style scoped>\n",
       "    .dataframe tbody tr th:only-of-type {\n",
       "        vertical-align: middle;\n",
       "    }\n",
       "\n",
       "    .dataframe tbody tr th {\n",
       "        vertical-align: top;\n",
       "    }\n",
       "\n",
       "    .dataframe thead th {\n",
       "        text-align: right;\n",
       "    }\n",
       "</style>\n",
       "<table border=\"1\" class=\"dataframe\">\n",
       "  <thead>\n",
       "    <tr style=\"text-align: right;\">\n",
       "      <th></th>\n",
       "      <th>Hotel Name</th>\n",
       "      <th>Management Firm</th>\n",
       "      <th>City</th>\n",
       "      <th>State</th>\n",
       "      <th>Country</th>\n",
       "      <th>Chain_Name</th>\n",
       "      <th>Rooms</th>\n",
       "    </tr>\n",
       "  </thead>\n",
       "  <tbody>\n",
       "    <tr>\n",
       "      <th>2073</th>\n",
       "      <td>Wyndham Gettysburg</td>\n",
       "      <td>Multiple Hotels Company</td>\n",
       "      <td>Gettysburg</td>\n",
       "      <td>Pennsylvania</td>\n",
       "      <td>United States</td>\n",
       "      <td>Wyndham Destinations</td>\n",
       "      <td>248</td>\n",
       "    </tr>\n",
       "  </tbody>\n",
       "</table>\n",
       "</div>"
      ],
      "text/plain": [
       "             Hotel Name           Management Firm        City         State  \\\n",
       "2073  Wyndham Gettysburg  Multiple Hotels Company  Gettysburg  Pennsylvania   \n",
       "\n",
       "            Country            Chain_Name  Rooms   \n",
       "2073  United States  Wyndham Destinations     248  "
      ]
     },
     "execution_count": 70,
     "metadata": {},
     "output_type": "execute_result"
    }
   ],
   "source": [
    "final.loc[final['Management Firm']=='Multiple Hotels Company']"
   ]
  },
  {
   "cell_type": "markdown",
   "metadata": {},
   "source": [
    "Let's have a look at some more numbers. Below is the list of management firms against the number of hotels they manage in the US."
   ]
  },
  {
   "cell_type": "code",
   "execution_count": 77,
   "metadata": {},
   "outputs": [
    {
     "data": {
      "text/plain": [
       "{'Too Low Hotel Management': 76,\n",
       " 'Multiple Hotels Company': 377,\n",
       " 'Black Group Hospitality ': 88,\n",
       " 'Flying Hospitality': 102,\n",
       " 'Painless Hotels': 68,\n",
       " 'Isolated Hospitality': 352,\n",
       " 'Transparent Hotels': 73,\n",
       " 'Best Hospitality Management': 429,\n",
       " 'Jamming Hospitality': 35,\n",
       " 'Phillip Hotels': 37,\n",
       " 'Circle Hotels': 115,\n",
       " 'Goliath Hotels and Resorts': 36,\n",
       " 'Hairydry Hotels': 97,\n",
       " 'Sunny Management': 44,\n",
       " 'Einstein Hotels': 56}"
      ]
     },
     "execution_count": 77,
     "metadata": {},
     "output_type": "execute_result"
    }
   ],
   "source": [
    "hotels_dict = {}\n",
    "firm_list = list(us_data['Management Firm'].unique())\n",
    "for i in range(len(firm_list)): \n",
    "    hotels_dict[firm_list[i]] = len(us_data.loc[firm_list[i] == us_data['Management Firm']])\n",
    "hotels_dict"
   ]
  },
  {
   "cell_type": "markdown",
   "metadata": {},
   "source": [
    "* One can see that Multiple Hotels Company manages second largest number of hotels in the US, which is extremely promising as they use HotelSoft in their UK hotels already.\n",
    "\n",
    "* Sunny Management manages 44 hotels in the US, a relatively low number, and are the only such firm that manages a Wyndham hotel, comparing to Transparent Hotel with their 73 hotels, Painless Hotels with their 68 and Best Hospitality Management with the enormous number of 429.\n"
   ]
  },
  {
   "cell_type": "code",
   "execution_count": 76,
   "metadata": {},
   "outputs": [
    {
     "data": {
      "text/html": [
       "<div>\n",
       "<style scoped>\n",
       "    .dataframe tbody tr th:only-of-type {\n",
       "        vertical-align: middle;\n",
       "    }\n",
       "\n",
       "    .dataframe tbody tr th {\n",
       "        vertical-align: top;\n",
       "    }\n",
       "\n",
       "    .dataframe thead th {\n",
       "        text-align: right;\n",
       "    }\n",
       "</style>\n",
       "<table border=\"1\" class=\"dataframe\">\n",
       "  <thead>\n",
       "    <tr style=\"text-align: right;\">\n",
       "      <th></th>\n",
       "      <th>Hotel Name</th>\n",
       "      <th>Management Firm</th>\n",
       "      <th>City</th>\n",
       "      <th>State</th>\n",
       "      <th>Country</th>\n",
       "      <th>Chain_Name</th>\n",
       "      <th>Rooms</th>\n",
       "    </tr>\n",
       "  </thead>\n",
       "  <tbody>\n",
       "    <tr>\n",
       "      <th>66</th>\n",
       "      <td>Baymont Inn &amp; Suites Barstow Historic Route 66</td>\n",
       "      <td>Sunny Management</td>\n",
       "      <td>Barstow</td>\n",
       "      <td>California</td>\n",
       "      <td>United States</td>\n",
       "      <td>Wyndham Destinations</td>\n",
       "      <td>64</td>\n",
       "    </tr>\n",
       "  </tbody>\n",
       "</table>\n",
       "</div>"
      ],
      "text/plain": [
       "                                       Hotel Name    Management Firm     City  \\\n",
       "66  Baymont Inn & Suites Barstow Historic Route 66  Sunny Management  Barstow   \n",
       "\n",
       "         State        Country            Chain_Name  Rooms   \n",
       "66  California  United States  Wyndham Destinations      64  "
      ]
     },
     "execution_count": 76,
     "metadata": {},
     "output_type": "execute_result"
    }
   ],
   "source": [
    "final.loc[final['Management Firm']=='Sunny Management']"
   ]
  },
  {
   "cell_type": "markdown",
   "metadata": {},
   "source": [
    "I believe it's a good idea to **meet with Sunny Management's representatives** in the US, as the Wyndham hotel they manage has a relatively low number of rooms, so running HotelSoft as a pilot wouldn't come at a high cost, meaning it's more likely that they will agree."
   ]
  },
  {
   "cell_type": "markdown",
   "metadata": {},
   "source": [
    "Similarly, let's see the average number of rooms each firm manages in a hotel across the US."
   ]
  },
  {
   "cell_type": "code",
   "execution_count": 83,
   "metadata": {},
   "outputs": [
    {
     "data": {
      "text/plain": [
       "{'Too Low Hotel Management': '390.55',\n",
       " 'Multiple Hotels Company': '172.09',\n",
       " 'Black Group Hospitality ': '201.92',\n",
       " 'Flying Hospitality': '147.18',\n",
       " 'Painless Hotels': '263.72',\n",
       " 'Isolated Hospitality': '135.57',\n",
       " 'Transparent Hotels': '140.16',\n",
       " 'Best Hospitality Management': '136.11',\n",
       " 'Jamming Hospitality': '217.09',\n",
       " 'Phillip Hotels': '83.03',\n",
       " 'Circle Hotels': '145.91',\n",
       " 'Goliath Hotels and Resorts': '287.00',\n",
       " 'Hairydry Hotels': '193.15',\n",
       " 'Sunny Management': '177.23',\n",
       " 'Einstein Hotels': '198.91'}"
      ]
     },
     "execution_count": 83,
     "metadata": {},
     "output_type": "execute_result"
    }
   ],
   "source": [
    "rooms_dict = {}\n",
    "firm_list = list(us_data['Management Firm'].unique())\n",
    "for i in range(len(firm_list)): \n",
    "    rooms_dict[firm_list[i]] = '{:.2f}'.format(\n",
    "                                us_data.loc[firm_list[i] == us_data['Management Firm']]['Rooms '].mean())\n",
    "rooms_dict"
   ]
  },
  {
   "cell_type": "markdown",
   "metadata": {},
   "source": [
    "We would like to start from hotels with a number of rooms at around 100 to better showcase HotelSoft's success at Wyndman in the UK.\n",
    "\n",
    "Finally, let's have a look at the biggest chains and which firms manage them. "
   ]
  },
  {
   "cell_type": "code",
   "execution_count": 104,
   "metadata": {},
   "outputs": [],
   "source": [
    "us_data['Chain_Name'].unique()\n",
    "\n",
    "#more cleaning\n",
    "for col in data.columns:\n",
    "    #Best Hospitality Management\n",
    "    us_data.loc[us_data[col] == 'Indepantdent', col] = 'Independent'\n",
    "    us_data.loc[us_data[col] == 'Hilton hotels', col] = 'Hilton'\n",
    "    us_data.loc[us_data[col] == 'Mariot', col] = 'Marriott'\n",
    "    \n",
    "us_chains = list(us_data['Chain_Name'].unique())"
   ]
  },
  {
   "cell_type": "code",
   "execution_count": 103,
   "metadata": {},
   "outputs": [
    {
     "data": {
      "text/plain": [
       "{'Independent': 248,\n",
       " 'Hilton': 497,\n",
       " 'Marriott': 897,\n",
       " 'Wyndham Destinations': 39,\n",
       " nan: 0,\n",
       " 'Best Western Hotels & Resorts': 4,\n",
       " 'IHG': 106,\n",
       " 'Choice Hotels': 26,\n",
       " 'Radisson': 10,\n",
       " 'Extended Stay America': 16,\n",
       " 'Red Lion': 2,\n",
       " 'Hyatt': 138}"
      ]
     },
     "execution_count": 103,
     "metadata": {},
     "output_type": "execute_result"
    }
   ],
   "source": [
    "chains_dict = {}\n",
    "for i in range(len(us_chains)): \n",
    "    chains_dict[us_chains[i]] = len(us_data.loc[us_chains[i] == us_data['Chain_Name']])\n",
    "chains_dict"
   ]
  },
  {
   "cell_type": "markdown",
   "metadata": {},
   "source": [
    "Therefore, **Marriott, Hilton and Independent** are the biggest chains and we would like to approach management firms which manage at least some decent percentage of these chains so we can have access to big chains in the future. Let's produce pie charts to see which firms manage big chunks of each of these.  "
   ]
  },
  {
   "cell_type": "code",
   "execution_count": 115,
   "metadata": {},
   "outputs": [
    {
     "data": {
      "text/plain": [
       "{'Too Low Hotel Management': 9.0,\n",
       " 'Multiple Hotels Company': 190.0,\n",
       " 'Black Group Hospitality ': 53.0,\n",
       " 'Flying Hospitality': 59.0,\n",
       " 'Painless Hotels': 29.0,\n",
       " 'Isolated Hospitality': 213.0,\n",
       " 'Transparent Hotels': 28.0,\n",
       " 'Best Hospitality Management': 179.0,\n",
       " 'Jamming Hospitality': 1.0,\n",
       " 'Phillip Hotels': 0.0,\n",
       " 'Circle Hotels': 57.0,\n",
       " 'Goliath Hotels and Resorts': 9.0,\n",
       " 'Hairydry Hotels': 36.0,\n",
       " 'Sunny Management': 8.0,\n",
       " 'Einstein Hotels': 26.0}"
      ]
     },
     "execution_count": 115,
     "metadata": {},
     "output_type": "execute_result"
    }
   ],
   "source": [
    "import matplotlib.pyplot as plt\n",
    "\n",
    "marriott_dict = {}\n",
    "for i in range(len(firm_list)):\n",
    "    temp = len(us_data.loc[(firm_list[i] == us_data['Management Firm']) & (us_data['Chain_Name'] == 'Marriott')])\n",
    "    marriott_dict[firm_list[i]] = float(temp)\n",
    "marriott_dict"
   ]
  },
  {
   "cell_type": "code",
   "execution_count": 131,
   "metadata": {},
   "outputs": [
    {
     "data": {
      "image/png": "[encoded data removed]",
      "text/plain": [
       "<Figure size 432x432 with 1 Axes>"
      ]
     },
     "metadata": {},
     "output_type": "display_data"
    }
   ],
   "source": [
    "plt.pie([float(v) for v in marriott_dict.values()], labels=list(marriott_dict.keys()), autopct=None)\n",
    "fig = plt.gcf()\n",
    "fig.set_size_inches(6,6)\n",
    "plt.title('Firms Managing the Marriott Chain')\n",
    "plt.show()"
   ]
  },
  {
   "cell_type": "code",
   "execution_count": 137,
   "metadata": {},
   "outputs": [],
   "source": [
    "hilton_dict = {}\n",
    "for i in range(len(firm_list)):\n",
    "    temp = len(us_data.loc[(firm_list[i] == us_data['Management Firm']) & (us_data['Chain_Name'] == 'Hilton')])\n",
    "    hilton_dict[firm_list[i]] = float(temp)\n"
   ]
  },
  {
   "cell_type": "code",
   "execution_count": 133,
   "metadata": {},
   "outputs": [
    {
     "data": {
      "image/png": "[encoded data removed]",
      "text/plain": [
       "<Figure size 432x432 with 1 Axes>"
      ]
     },
     "metadata": {},
     "output_type": "display_data"
    }
   ],
   "source": [
    "plt.pie([float(v) for v in marriott_dict.values()], labels=list(marriott_dict.keys()), autopct=None)\n",
    "fig = plt.gcf()\n",
    "fig.set_size_inches(6,6)\n",
    "plt.title('Firms Managing the Hilton Chain')\n",
    "plt.show()"
   ]
  },
  {
   "cell_type": "code",
   "execution_count": 136,
   "metadata": {},
   "outputs": [],
   "source": [
    "indep_dict = {}\n",
    "for i in range(len(firm_list)):\n",
    "    temp = len(us_data.loc[(firm_list[i] == us_data['Management Firm']) & (us_data['Chain_Name'] == 'Independent')])\n",
    "    indep_dict[firm_list[i]] = float(temp)\n"
   ]
  },
  {
   "cell_type": "code",
   "execution_count": 135,
   "metadata": {
    "scrolled": false
   },
   "outputs": [
    {
     "data": {
      "image/png": "[encoded data removed]",
      "text/plain": [
       "<Figure size 432x432 with 1 Axes>"
      ]
     },
     "metadata": {},
     "output_type": "display_data"
    }
   ],
   "source": [
    "plt.pie([float(v) for v in marriott_dict.values()], labels=list(marriott_dict.keys()), autopct=None)\n",
    "fig = plt.gcf()\n",
    "fig.set_size_inches(6,6)\n",
    "plt.title('Firms Managing the Independent Chain')\n",
    "plt.show()"
   ]
  },
  {
   "cell_type": "markdown",
   "metadata": {},
   "source": [
    "**Multiple Hotels Company**, Best Hospitality Management and Isolated Hospitality manage an overwhelming majority of Marriott, Hilton and Isolated Hospitality hotels, which only reiterates my position on meeting with Multiple Hotels Company. "
   ]
  },
  {
   "cell_type": "markdown",
   "metadata": {},
   "source": [
    "## Conclusion: \n",
    "\n",
    "Bob should meet with the following three companies:\n",
    "#### Multiple Hotels Company:\n",
    "\n",
    "* Most likely to be successful through existing links between HotelSoft and them through Wyndham in the UK \n",
    "* Large market share\n",
    "* Manage a significant proportion of the biggest hotel chains\n",
    "\n",
    "#### Sunny Management:\n",
    "* Manage few hotels, might be highly interested\n",
    "* Manage a Wyndham hotel with a small number of rooms, which could be a great pilot, setting example for competition\n",
    "\n",
    "Finally, judging from the analysis above I would recommend to meet with **Best Hospitality Management** representatives, as \n",
    "\n",
    "* They manage nearly all Wyndham hotels in the US, so it will be easier to showcase HotelSoft's success from Wyndham hotels in the UK\n",
    "\n",
    "* They have the largest market share and manage hotels with the average number of rooms that HotelSoft manages successfully in the UK and yet they have a lot of Wyndham hotels with around 60 rooms - a good number of rooms for a pilot\n",
    "\n",
    "* They also manage a significant proportion of the biggest hotel chains, which is a great opportunity for a potential expansion"
   ]
  }
 ],
 "metadata": {
  "kernelspec": {
   "display_name": "Python 3",
   "language": "python",
   "name": "python3"
  },
  "language_info": {
   "codemirror_mode": {
    "name": "ipython",
    "version": 3
   },
   "file_extension": ".py",
   "mimetype": "text/x-python",
   "name": "python",
   "nbconvert_exporter": "python",
   "pygments_lexer": "ipython3",
   "version": "3.7.3"
  }
 },
 "nbformat": 4,
 "nbformat_minor": 2
}
